{
 "cells": [
  {
   "cell_type": "code",
   "execution_count": 2,
   "id": "76f00d1c-8c02-40b5-846d-b2734028b319",
   "metadata": {},
   "outputs": [
    {
     "name": "stdout",
     "output_type": "stream",
     "text": [
      "Requirement already satisfied: pandas in /opt/conda/lib/python3.10/site-packages (1.5.2)\n",
      "Requirement already satisfied: python-dateutil>=2.8.1 in /opt/conda/lib/python3.10/site-packages (from pandas) (2.8.2)\n",
      "Requirement already satisfied: pytz>=2020.1 in /opt/conda/lib/python3.10/site-packages (from pandas) (2022.6)\n",
      "Requirement already satisfied: numpy>=1.21.0 in /opt/conda/lib/python3.10/site-packages (from pandas) (1.23.5)\n",
      "Requirement already satisfied: six>=1.5 in /opt/conda/lib/python3.10/site-packages (from python-dateutil>=2.8.1->pandas) (1.16.0)\n",
      "Note: you may need to restart the kernel to use updated packages.\n"
     ]
    }
   ],
   "source": [
    "pip install pandas"
   ]
  },
  {
   "cell_type": "code",
   "execution_count": null,
   "id": "9317f3eb-4b9a-4a6a-94c3-13a582da46c4",
   "metadata": {},
   "outputs": [],
   "source": [
    "#Q1. Create a Pandas Series that contains the following data: 4, 8, 15, 16, 23, and 42. Then, print the series."
   ]
  },
  {
   "cell_type": "code",
   "execution_count": 14,
   "id": "92fbd4b4-8735-4d33-84c4-d9b9cbcee508",
   "metadata": {},
   "outputs": [
    {
     "name": "stdout",
     "output_type": "stream",
     "text": [
      "0     4\n",
      "1     8\n",
      "2    15\n",
      "3    16\n",
      "4    23\n",
      "5    42\n",
      "dtype: int64\n"
     ]
    }
   ],
   "source": [
    "#Ans1-\n",
    "\n",
    "import pandas as pd\n",
    "\n",
    "# Create the Series\n",
    "my_series = pd.Series([4, 8, 15, 16, 23, 42])\n",
    "\n",
    "# Print the Series\n",
    "print(my_series)"
   ]
  },
  {
   "cell_type": "code",
   "execution_count": 15,
   "id": "8475ba05-df80-4676-a1aa-0a148143d11e",
   "metadata": {},
   "outputs": [
    {
     "data": {
      "text/plain": [
       "pandas.core.series.Series"
      ]
     },
     "execution_count": 15,
     "metadata": {},
     "output_type": "execute_result"
    }
   ],
   "source": [
    "type(my_series)"
   ]
  },
  {
   "cell_type": "code",
   "execution_count": null,
   "id": "8534288f-60ad-4d00-b5ac-2e156e14b865",
   "metadata": {},
   "outputs": [],
   "source": [
    "#Q2. Create a variable of list type containing 10 elements in it, and apply pandas.Series function on the variable print it."
   ]
  },
  {
   "cell_type": "code",
   "execution_count": 11,
   "id": "f504587a-f5fe-4b56-970e-c2e0964d0cc5",
   "metadata": {},
   "outputs": [],
   "source": [
    "#Ans2-\n",
    "\n",
    "d1 = [1, 2, 3, 4, 5, 6, 7, 8, 9, 10]"
   ]
  },
  {
   "cell_type": "code",
   "execution_count": 12,
   "id": "47213a10-2c5d-4f15-9c86-e222fdb9ac3f",
   "metadata": {},
   "outputs": [],
   "source": [
    "my_series1 = pd.Series(d1)"
   ]
  },
  {
   "cell_type": "code",
   "execution_count": 13,
   "id": "7c1aec5d-abdf-41e5-b2f6-dff6665a743c",
   "metadata": {},
   "outputs": [
    {
     "data": {
      "text/plain": [
       "0     1\n",
       "1     2\n",
       "2     3\n",
       "3     4\n",
       "4     5\n",
       "5     6\n",
       "6     7\n",
       "7     8\n",
       "8     9\n",
       "9    10\n",
       "dtype: int64"
      ]
     },
     "execution_count": 13,
     "metadata": {},
     "output_type": "execute_result"
    }
   ],
   "source": [
    "my_series1"
   ]
  },
  {
   "cell_type": "code",
   "execution_count": 24,
   "id": "e8184bbe-8a57-434b-9d73-036b3f1b6fde",
   "metadata": {},
   "outputs": [],
   "source": [
    "#Q3. Create a Pandas DataFrame that contains the following data:\n",
    "\n",
    "#Ans-\n",
    "\n",
    "df1 = {\"Name\" : [\"Alice\", \"Bob\", \"Clair\"],\n",
    "       \"Age\" : [25, 30, 27],\n",
    "       \"Gender\" : [\"Female\", \"male\", \"Female\"]\n",
    "}\n"
   ]
  },
  {
   "cell_type": "code",
   "execution_count": 25,
   "id": "81cf8049-77ff-4b3f-9806-f686ca70b43a",
   "metadata": {},
   "outputs": [
    {
     "data": {
      "text/plain": [
       "{'Name': ['Alice', 'Bob', 'Clair'],\n",
       " 'Age': [25, 30, 27],\n",
       " 'Gender': ['Female', 'male', 'Female']}"
      ]
     },
     "execution_count": 25,
     "metadata": {},
     "output_type": "execute_result"
    }
   ],
   "source": [
    "df1"
   ]
  },
  {
   "cell_type": "code",
   "execution_count": 30,
   "id": "8b94c032-fe73-4d4f-b58f-27bc9e3f047c",
   "metadata": {},
   "outputs": [
    {
     "name": "stdout",
     "output_type": "stream",
     "text": [
      "    Name  Age  Gender\n",
      "0  Alice   25  Female\n",
      "1    Bob   30    male\n",
      "2  Clair   27  Female\n"
     ]
    }
   ],
   "source": [
    "# Create a DataFrame from the dictionary\n",
    "df2 = pd.DataFrame(df1)\n",
    "\n",
    "# Write the DataFrame to a CSV file\n",
    "df2.to_csv(\"df1.csv\")\n",
    "\n",
    "print(df2)"
   ]
  },
  {
   "cell_type": "code",
   "execution_count": 31,
   "id": "a8163ecd-3cb4-4cd7-a018-086520f8ab2a",
   "metadata": {},
   "outputs": [
    {
     "name": "stdout",
     "output_type": "stream",
     "text": [
      "Series:\n",
      "0    1\n",
      "1    2\n",
      "2    3\n",
      "3    4\n",
      "4    5\n",
      "dtype: int64\n",
      "DataFrame:\n",
      "    Name  Age  Gender\n",
      "0  Alice   25  Female\n",
      "1    Bob   30    male\n",
      "2  Clair   27  Female\n"
     ]
    }
   ],
   "source": [
    "#Q4. What is ‘DataFrame’ in pandas and how is it different from pandas.series? Explain with an example.\n",
    "\n",
    "#Ans-\n",
    "\n",
    "'''DataFrame and Series are two important data structures in the pandas library in Python, and they are used to handle tabular data.\n",
    "\n",
    "A Series is a one-dimensional labeled array that can hold any data type. It is similar to a column in a spreadsheet or a database table. \n",
    "A DataFrame, on the other hand, is a two-dimensional labeled data structure that can hold multiple Series objects. It is similar to a spreadsheet or a database table.\n",
    "\n",
    "Here's an example that illustrates the difference between Series and DataFrame in pandas:'''\n",
    "\n",
    "\n",
    "\n",
    "# Create a Series\n",
    "series_data = pd.Series([1, 2, 3, 4, 5])\n",
    "\n",
    "# Print the Series\n",
    "print(\"Series:\")\n",
    "print(series_data)\n",
    "\n",
    "# Create a DataFrame\n",
    "df_data = pd.DataFrame({\n",
    "    \"Name\": [\"Alice\", \"Bob\", \"Clair\"],\n",
    "    \"Age\": [25, 30, 27],\n",
    "    \"Gender\": [\"Female\", \"male\", \"Female\"]\n",
    "})\n",
    "\n",
    "# Print the DataFrame\n",
    "print(\"DataFrame:\")\n",
    "print(df_data)\n"
   ]
  },
  {
   "cell_type": "code",
   "execution_count": 34,
   "id": "26ad49e7-bf8e-4fbc-a5a7-a9620bcb0bc2",
   "metadata": {},
   "outputs": [
    {
     "data": {
      "text/html": [
       "<div>\n",
       "<style scoped>\n",
       "    .dataframe tbody tr th:only-of-type {\n",
       "        vertical-align: middle;\n",
       "    }\n",
       "\n",
       "    .dataframe tbody tr th {\n",
       "        vertical-align: top;\n",
       "    }\n",
       "\n",
       "    .dataframe thead th {\n",
       "        text-align: right;\n",
       "    }\n",
       "</style>\n",
       "<table border=\"1\" class=\"dataframe\">\n",
       "  <thead>\n",
       "    <tr style=\"text-align: right;\">\n",
       "      <th></th>\n",
       "      <th>Name</th>\n",
       "      <th>Age</th>\n",
       "      <th>Gender</th>\n",
       "    </tr>\n",
       "  </thead>\n",
       "  <tbody>\n",
       "    <tr>\n",
       "      <th>0</th>\n",
       "      <td>Alice</td>\n",
       "      <td>25</td>\n",
       "      <td>Female</td>\n",
       "    </tr>\n",
       "    <tr>\n",
       "      <th>1</th>\n",
       "      <td>Bob</td>\n",
       "      <td>30</td>\n",
       "      <td>male</td>\n",
       "    </tr>\n",
       "    <tr>\n",
       "      <th>2</th>\n",
       "      <td>Clair</td>\n",
       "      <td>27</td>\n",
       "      <td>Female</td>\n",
       "    </tr>\n",
       "  </tbody>\n",
       "</table>\n",
       "</div>"
      ],
      "text/plain": [
       "    Name  Age  Gender\n",
       "0  Alice   25  Female\n",
       "1    Bob   30    male\n",
       "2  Clair   27  Female"
      ]
     },
     "execution_count": 34,
     "metadata": {},
     "output_type": "execute_result"
    }
   ],
   "source": [
    "#Q5. What are some common functions you can use to manipulate data in a Pandas DataFrame? Can you give an example of when you might use one of these functions?\n",
    "\n",
    "#Ans-\n",
    "\n",
    "'''Pandas provides a wide range of functions that can be used to manipulate data in a DataFrame. Here are some commonly used functions:\n",
    "\n",
    "1. head() and tail(): Returns the first or last n rows of the DataFrame, respectively. These functions are useful for quickly inspecting the data in a DataFrame. \n",
    "For example, you might use head() to look at the first few rows of a DataFrame to make sure it was loaded correctly.\n",
    "\n",
    "2. describe(): Generates descriptive statistics of the DataFrame, such as the count, mean, standard deviation, minimum, and maximum values for each column. \n",
    "This function can be useful for getting an overview of the data in a DataFrame.\n",
    "\n",
    "3. groupby(): Groups the data in the DataFrame based on one or more columns, and applies an aggregate function to each group. \n",
    "This function is useful for calculating summary statistics by group. For example, you might use groupby() to group a DataFrame of sales data by product category, and then calculate the total revenue for each category.\n",
    "\n",
    "4. pivot_table(): Creates a pivot table from the DataFrame. A pivot table is a summary table that shows the relationship between two or more variables. \n",
    "This function is useful for analyzing the relationship between multiple variables. For example, you might use pivot_table() to create a summary table that shows the average sales by product category and region.\n",
    "\n",
    "5. merge(): Merges two DataFrames based on one or more common columns. This function is useful for combining data from multiple sources. \n",
    "For example, you might use merge() to combine a DataFrame of sales data with a DataFrame of customer data, based on a common customer ID column.\n",
    "\n",
    "6. fillna(): Fills missing values in the DataFrame with a specified value or method. This function is useful for dealing with missing data. For example, you might use fillna() to replace missing values in a DataFrame of survey responses with the mean value of the column.\n",
    "\n",
    "7. drop(): Drops specified rows or columns from the DataFrame. This function is useful for removing unnecessary data from the DataFrame. \n",
    "For example, you might use drop() to remove columns from a DataFrame that are not relevant to your analysis.\n",
    "\n",
    "These are just a few examples of the many functions available in Pandas for manipulating data in a DataFrame. \n",
    "The choice of function depends on the specific requirements of your analysis.'''\n",
    "\n",
    "\n",
    "df2.head()\n"
   ]
  },
  {
   "cell_type": "code",
   "execution_count": null,
   "id": "f862639b-63e3-4abc-9278-4c0b1aae55a9",
   "metadata": {},
   "outputs": [],
   "source": [
    "#Q6. Which of the following is mutable in nature Series, DataFrame, Panel?\n",
    "#Ans-\n",
    "\n",
    "'''In Pandas, both Series and DataFrame are mutable in nature, meaning that their values can be modified after they are created. \n",
    "However, Panel is considered deprecated in Pandas version 1.0.0 and above and replaced by MultiIndex.\n",
    "Therefore, it is recommended to use MultiIndex instead of Panel.'''"
   ]
  },
  {
   "cell_type": "code",
   "execution_count": 35,
   "id": "fbaee68d-e83b-4140-a91e-94dd42dcda60",
   "metadata": {},
   "outputs": [
    {
     "name": "stdout",
     "output_type": "stream",
     "text": [
      "    Name  Age  Gender\n",
      "0  Alice   25  Female\n",
      "1    Bob   30    Male\n",
      "2  Clair   27  Female\n"
     ]
    }
   ],
   "source": [
    "#Q7. Create a DataFrame using multiple Series. Explain with an example.\n",
    "#Ans-\n",
    "\n",
    "'''To create a DataFrame using multiple Series in Pandas, we can pass a dictionary of Series objects to the DataFrame constructor. \n",
    "Each Series will become a column in the DataFrame, and the keys of the dictionary will become the column names. Here's an example:'''\n",
    "\n",
    "import pandas as pd\n",
    "\n",
    "# create a series for each column\n",
    "names = pd.Series(['Alice', 'Bob', 'Clair'])\n",
    "ages = pd.Series([25, 30, 27])\n",
    "genders = pd.Series(['Female', 'Male', 'Female'])\n",
    "\n",
    "# create a dictionary of series\n",
    "data = {'Name': names, 'Age': ages, 'Gender': genders}\n",
    "\n",
    "# create a DataFrame from the dictionary\n",
    "df = pd.DataFrame(data)\n",
    "\n",
    "# print the DataFrame\n",
    "print(df)\n"
   ]
  },
  {
   "cell_type": "code",
   "execution_count": null,
   "id": "aca4dac0-ac91-4d68-92a3-3ad5d07b6479",
   "metadata": {},
   "outputs": [],
   "source": [
    "#In the above example, we first create three Series objects: names, ages, and genders. \n",
    "#We then create a dictionary called data that contains these Series objects, with the keys of the dictionary representing the column names in the resulting DataFrame. \n",
    "#Finally, we pass the data dictionary to the pd.DataFrame() constructor to create a DataFrame with the specified columns."
   ]
  }
 ],
 "metadata": {
  "kernelspec": {
   "display_name": "Python 3 (ipykernel)",
   "language": "python",
   "name": "python3"
  },
  "language_info": {
   "codemirror_mode": {
    "name": "ipython",
    "version": 3
   },
   "file_extension": ".py",
   "mimetype": "text/x-python",
   "name": "python",
   "nbconvert_exporter": "python",
   "pygments_lexer": "ipython3",
   "version": "3.10.8"
  }
 },
 "nbformat": 4,
 "nbformat_minor": 5
}
